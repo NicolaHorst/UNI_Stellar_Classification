{
 "cells": [
  {
   "cell_type": "code",
   "execution_count": 17,
   "metadata": {
    "collapsed": true,
    "pycharm": {
     "name": "#%%\n"
    }
   },
   "outputs": [],
   "source": [
    "import pandas as pd\n",
    "from pandas import DataFrame\n",
    "\n",
    "from sklearn.preprocessing import StandardScaler, MinMaxScaler"
   ]
  },
  {
   "cell_type": "code",
   "execution_count": 18,
   "outputs": [],
   "source": [
    "path: str = r\"D:\\Documents\\GitHub\\UNI_Stellar_Classification\\Data\\star_classification_only_features.csv\"\n",
    "data: DataFrame = pd.read_csv(path, index_col=\"index\")\n",
    "data.drop([\"Unnamed: 0\"], axis=1, inplace=True)"
   ],
   "metadata": {
    "collapsed": false,
    "pycharm": {
     "name": "#%%\n"
    }
   }
  },
  {
   "cell_type": "code",
   "execution_count": 19,
   "outputs": [
    {
     "data": {
      "text/plain": "            alpha      delta         u         g         r         i   \nindex                                                                  \n0      135.689107  32.494632  23.87882  22.27530  20.39501  19.16573  \\\n1      144.826101  31.274185  24.77759  22.83188  22.58444  21.16812   \n2      142.188790  35.582444  25.26307  22.66389  20.60976  19.34857   \n3      338.741038  -0.402828  22.13682  23.77656  21.61162  20.50454   \n4      345.282593  21.183866  19.43718  17.58028  16.49747  15.97711   \n\n              z  redshift   class  plate  \nindex                                     \n0      18.79371  0.634794  GALAXY   5812  \n1      21.61427  0.779136  GALAXY  10445  \n2      18.94827  0.644195  GALAXY   4576  \n3      19.25010  0.932346  GALAXY   9149  \n4      15.54461  0.116123  GALAXY   6121  ",
      "text/html": "<div>\n<style scoped>\n    .dataframe tbody tr th:only-of-type {\n        vertical-align: middle;\n    }\n\n    .dataframe tbody tr th {\n        vertical-align: top;\n    }\n\n    .dataframe thead th {\n        text-align: right;\n    }\n</style>\n<table border=\"1\" class=\"dataframe\">\n  <thead>\n    <tr style=\"text-align: right;\">\n      <th></th>\n      <th>alpha</th>\n      <th>delta</th>\n      <th>u</th>\n      <th>g</th>\n      <th>r</th>\n      <th>i</th>\n      <th>z</th>\n      <th>redshift</th>\n      <th>class</th>\n      <th>plate</th>\n    </tr>\n    <tr>\n      <th>index</th>\n      <th></th>\n      <th></th>\n      <th></th>\n      <th></th>\n      <th></th>\n      <th></th>\n      <th></th>\n      <th></th>\n      <th></th>\n      <th></th>\n    </tr>\n  </thead>\n  <tbody>\n    <tr>\n      <th>0</th>\n      <td>135.689107</td>\n      <td>32.494632</td>\n      <td>23.87882</td>\n      <td>22.27530</td>\n      <td>20.39501</td>\n      <td>19.16573</td>\n      <td>18.79371</td>\n      <td>0.634794</td>\n      <td>GALAXY</td>\n      <td>5812</td>\n    </tr>\n    <tr>\n      <th>1</th>\n      <td>144.826101</td>\n      <td>31.274185</td>\n      <td>24.77759</td>\n      <td>22.83188</td>\n      <td>22.58444</td>\n      <td>21.16812</td>\n      <td>21.61427</td>\n      <td>0.779136</td>\n      <td>GALAXY</td>\n      <td>10445</td>\n    </tr>\n    <tr>\n      <th>2</th>\n      <td>142.188790</td>\n      <td>35.582444</td>\n      <td>25.26307</td>\n      <td>22.66389</td>\n      <td>20.60976</td>\n      <td>19.34857</td>\n      <td>18.94827</td>\n      <td>0.644195</td>\n      <td>GALAXY</td>\n      <td>4576</td>\n    </tr>\n    <tr>\n      <th>3</th>\n      <td>338.741038</td>\n      <td>-0.402828</td>\n      <td>22.13682</td>\n      <td>23.77656</td>\n      <td>21.61162</td>\n      <td>20.50454</td>\n      <td>19.25010</td>\n      <td>0.932346</td>\n      <td>GALAXY</td>\n      <td>9149</td>\n    </tr>\n    <tr>\n      <th>4</th>\n      <td>345.282593</td>\n      <td>21.183866</td>\n      <td>19.43718</td>\n      <td>17.58028</td>\n      <td>16.49747</td>\n      <td>15.97711</td>\n      <td>15.54461</td>\n      <td>0.116123</td>\n      <td>GALAXY</td>\n      <td>6121</td>\n    </tr>\n  </tbody>\n</table>\n</div>"
     },
     "execution_count": 19,
     "metadata": {},
     "output_type": "execute_result"
    }
   ],
   "source": [
    "data.head()"
   ],
   "metadata": {
    "collapsed": false,
    "pycharm": {
     "name": "#%%\n"
    }
   }
  },
  {
   "cell_type": "code",
   "execution_count": 20,
   "outputs": [
    {
     "name": "stdout",
     "output_type": "stream",
     "text": [
      "<class 'pandas.core.frame.DataFrame'>\n",
      "Index: 99999 entries, 0 to 99999\n",
      "Data columns (total 10 columns):\n",
      " #   Column    Non-Null Count  Dtype  \n",
      "---  ------    --------------  -----  \n",
      " 0   alpha     99999 non-null  float64\n",
      " 1   delta     99999 non-null  float64\n",
      " 2   u         99999 non-null  float64\n",
      " 3   g         99999 non-null  float64\n",
      " 4   r         99999 non-null  float64\n",
      " 5   i         99999 non-null  float64\n",
      " 6   z         99999 non-null  float64\n",
      " 7   redshift  99999 non-null  float64\n",
      " 8   class     99999 non-null  object \n",
      " 9   plate     99999 non-null  int64  \n",
      "dtypes: float64(8), int64(1), object(1)\n",
      "memory usage: 8.4+ MB\n"
     ]
    }
   ],
   "source": [
    "data.info()"
   ],
   "metadata": {
    "collapsed": false,
    "pycharm": {
     "name": "#%%\n"
    }
   }
  },
  {
   "cell_type": "markdown",
   "source": [
    "# Transform the target variable into numeric values"
   ],
   "metadata": {
    "collapsed": false,
    "pycharm": {
     "name": "#%% md\n"
    }
   }
  },
  {
   "cell_type": "code",
   "execution_count": 21,
   "outputs": [
    {
     "data": {
      "text/plain": "array([0, 1, 2], dtype=int64)"
     },
     "execution_count": 21,
     "metadata": {},
     "output_type": "execute_result"
    }
   ],
   "source": [
    "target_encoding: dict = {\n",
    "    \"GALAXY\": 0,\n",
    "    \"QSO\": 1,\n",
    "    \"STAR\": 2\n",
    "}\n",
    "\n",
    "data[\"target\"] = data[\"class\"].map(lambda x: target_encoding[x])\n",
    "data.target.unique()"
   ],
   "metadata": {
    "collapsed": false,
    "pycharm": {
     "name": "#%%\n"
    }
   }
  },
  {
   "cell_type": "markdown",
   "source": [
    "# Rescale all features\n",
    "for Trees this will not be necessary, however it can improve the performance of Logistic Regression Models.\n",
    "Thus, a rescaled and non rescaled version of the dataset will be saved.\n",
    "\n",
    "There are several methods how to rescale data such as Standardization or MinMaxScaling\n",
    "Both ways will be tried and the logistic regression model will be evaluated on all of them."
   ],
   "metadata": {
    "collapsed": false,
    "pycharm": {
     "name": "#%% md\n"
    }
   }
  },
  {
   "cell_type": "code",
   "execution_count": 27,
   "outputs": [],
   "source": [
    "min_max_scaler = MinMaxScaler()\n",
    "standard_scaler = StandardScaler()\n",
    "\n",
    "# min max scale\n",
    "min_max_scaled_data = min_max_scaler.fit_transform(data.drop([\"class\", \"target\"], axis=1), data[\"target\"])\n",
    "mm_scaled_data: DataFrame = DataFrame(data=min_max_scaled_data, columns=min_max_scaler.get_feature_names_out())\n",
    "mm_scaled_data[\"target\"] = data.target\n",
    "\n",
    "# standardise\n",
    "standard_scaled_data = standard_scaler.fit_transform(data.drop([\"class\", \"target\"], axis=1), data[\"target\"])\n",
    "std_scale_data = DataFrame = DataFrame(data=standard_scaled_data, columns=standard_scaler.get_feature_names_out())\n",
    "std_scale_data[\"target\"] = data.target"
   ],
   "metadata": {
    "collapsed": false,
    "pycharm": {
     "name": "#%%\n"
    }
   }
  },
  {
   "cell_type": "code",
   "execution_count": 28,
   "outputs": [
    {
     "data": {
      "text/plain": "      alpha     delta         u         g         r         i         z   \n0  0.376905  0.503802  0.591347  0.558050  0.535344  0.427665  0.464377  \\\n1  0.402286  0.491812  0.632603  0.584423  0.646203  0.515986  0.607035   \n2  0.394960  0.534139  0.654888  0.576463  0.546218  0.435729  0.472194   \n3  0.940947  0.180600  0.511384  0.629186  0.596946  0.486717  0.487460   \n4  0.959118  0.392679  0.387463  0.335579  0.337999  0.287021  0.300043   \n\n   redshift     plate  target  \n0  0.091831  0.451592     0.0  \n1  0.112389  0.828841     0.0  \n2  0.093170  0.350949     0.0  \n3  0.134210  0.723312     0.0  \n4  0.017959  0.476753     0.0  ",
      "text/html": "<div>\n<style scoped>\n    .dataframe tbody tr th:only-of-type {\n        vertical-align: middle;\n    }\n\n    .dataframe tbody tr th {\n        vertical-align: top;\n    }\n\n    .dataframe thead th {\n        text-align: right;\n    }\n</style>\n<table border=\"1\" class=\"dataframe\">\n  <thead>\n    <tr style=\"text-align: right;\">\n      <th></th>\n      <th>alpha</th>\n      <th>delta</th>\n      <th>u</th>\n      <th>g</th>\n      <th>r</th>\n      <th>i</th>\n      <th>z</th>\n      <th>redshift</th>\n      <th>plate</th>\n      <th>target</th>\n    </tr>\n  </thead>\n  <tbody>\n    <tr>\n      <th>0</th>\n      <td>0.376905</td>\n      <td>0.503802</td>\n      <td>0.591347</td>\n      <td>0.558050</td>\n      <td>0.535344</td>\n      <td>0.427665</td>\n      <td>0.464377</td>\n      <td>0.091831</td>\n      <td>0.451592</td>\n      <td>0.0</td>\n    </tr>\n    <tr>\n      <th>1</th>\n      <td>0.402286</td>\n      <td>0.491812</td>\n      <td>0.632603</td>\n      <td>0.584423</td>\n      <td>0.646203</td>\n      <td>0.515986</td>\n      <td>0.607035</td>\n      <td>0.112389</td>\n      <td>0.828841</td>\n      <td>0.0</td>\n    </tr>\n    <tr>\n      <th>2</th>\n      <td>0.394960</td>\n      <td>0.534139</td>\n      <td>0.654888</td>\n      <td>0.576463</td>\n      <td>0.546218</td>\n      <td>0.435729</td>\n      <td>0.472194</td>\n      <td>0.093170</td>\n      <td>0.350949</td>\n      <td>0.0</td>\n    </tr>\n    <tr>\n      <th>3</th>\n      <td>0.940947</td>\n      <td>0.180600</td>\n      <td>0.511384</td>\n      <td>0.629186</td>\n      <td>0.596946</td>\n      <td>0.486717</td>\n      <td>0.487460</td>\n      <td>0.134210</td>\n      <td>0.723312</td>\n      <td>0.0</td>\n    </tr>\n    <tr>\n      <th>4</th>\n      <td>0.959118</td>\n      <td>0.392679</td>\n      <td>0.387463</td>\n      <td>0.335579</td>\n      <td>0.337999</td>\n      <td>0.287021</td>\n      <td>0.300043</td>\n      <td>0.017959</td>\n      <td>0.476753</td>\n      <td>0.0</td>\n    </tr>\n  </tbody>\n</table>\n</div>"
     },
     "execution_count": 28,
     "metadata": {},
     "output_type": "execute_result"
    }
   ],
   "source": [
    "mm_scaled_data.head()"
   ],
   "metadata": {
    "collapsed": false,
    "pycharm": {
     "name": "#%%\n"
    }
   }
  },
  {
   "cell_type": "code",
   "execution_count": 29,
   "outputs": [
    {
     "data": {
      "text/plain": "      alpha     delta         u         g         r         i         z   \n0 -0.434597  0.425517  0.798798  0.806782  0.403953  0.046001  0.013999  \\\n1 -0.339915  0.363391  1.198064  1.079967  1.584395  1.185087  1.611170   \n2 -0.367244  0.582702  1.413732  0.997513  0.519736  0.150012  0.101520   \n3  1.669522 -1.249122  0.024940  1.543642  1.059894  0.807601  0.272435   \n4  1.737308 -0.150255 -1.174337 -1.497665 -1.697426 -1.767888 -1.825836   \n\n   redshift     plate  target  \n0  0.079549  0.228626     0.0  \n1  0.277088  1.797912     0.0  \n2  0.092415 -0.190031     0.0  \n3  0.486761  1.358932     0.0  \n4 -0.630273  0.333290     0.0  ",
      "text/html": "<div>\n<style scoped>\n    .dataframe tbody tr th:only-of-type {\n        vertical-align: middle;\n    }\n\n    .dataframe tbody tr th {\n        vertical-align: top;\n    }\n\n    .dataframe thead th {\n        text-align: right;\n    }\n</style>\n<table border=\"1\" class=\"dataframe\">\n  <thead>\n    <tr style=\"text-align: right;\">\n      <th></th>\n      <th>alpha</th>\n      <th>delta</th>\n      <th>u</th>\n      <th>g</th>\n      <th>r</th>\n      <th>i</th>\n      <th>z</th>\n      <th>redshift</th>\n      <th>plate</th>\n      <th>target</th>\n    </tr>\n  </thead>\n  <tbody>\n    <tr>\n      <th>0</th>\n      <td>-0.434597</td>\n      <td>0.425517</td>\n      <td>0.798798</td>\n      <td>0.806782</td>\n      <td>0.403953</td>\n      <td>0.046001</td>\n      <td>0.013999</td>\n      <td>0.079549</td>\n      <td>0.228626</td>\n      <td>0.0</td>\n    </tr>\n    <tr>\n      <th>1</th>\n      <td>-0.339915</td>\n      <td>0.363391</td>\n      <td>1.198064</td>\n      <td>1.079967</td>\n      <td>1.584395</td>\n      <td>1.185087</td>\n      <td>1.611170</td>\n      <td>0.277088</td>\n      <td>1.797912</td>\n      <td>0.0</td>\n    </tr>\n    <tr>\n      <th>2</th>\n      <td>-0.367244</td>\n      <td>0.582702</td>\n      <td>1.413732</td>\n      <td>0.997513</td>\n      <td>0.519736</td>\n      <td>0.150012</td>\n      <td>0.101520</td>\n      <td>0.092415</td>\n      <td>-0.190031</td>\n      <td>0.0</td>\n    </tr>\n    <tr>\n      <th>3</th>\n      <td>1.669522</td>\n      <td>-1.249122</td>\n      <td>0.024940</td>\n      <td>1.543642</td>\n      <td>1.059894</td>\n      <td>0.807601</td>\n      <td>0.272435</td>\n      <td>0.486761</td>\n      <td>1.358932</td>\n      <td>0.0</td>\n    </tr>\n    <tr>\n      <th>4</th>\n      <td>1.737308</td>\n      <td>-0.150255</td>\n      <td>-1.174337</td>\n      <td>-1.497665</td>\n      <td>-1.697426</td>\n      <td>-1.767888</td>\n      <td>-1.825836</td>\n      <td>-0.630273</td>\n      <td>0.333290</td>\n      <td>0.0</td>\n    </tr>\n  </tbody>\n</table>\n</div>"
     },
     "execution_count": 29,
     "metadata": {},
     "output_type": "execute_result"
    }
   ],
   "source": [
    "std_scale_data.head()"
   ],
   "metadata": {
    "collapsed": false,
    "pycharm": {
     "name": "#%%\n"
    }
   }
  },
  {
   "cell_type": "code",
   "execution_count": 30,
   "outputs": [
    {
     "data": {
      "text/plain": "            alpha      delta         u         g         r         i   \nindex                                                                  \n0      135.689107  32.494632  23.87882  22.27530  20.39501  19.16573  \\\n1      144.826101  31.274185  24.77759  22.83188  22.58444  21.16812   \n2      142.188790  35.582444  25.26307  22.66389  20.60976  19.34857   \n3      338.741038  -0.402828  22.13682  23.77656  21.61162  20.50454   \n4      345.282593  21.183866  19.43718  17.58028  16.49747  15.97711   \n\n              z  redshift   class  plate  target  \nindex                                             \n0      18.79371  0.634794  GALAXY   5812       0  \n1      21.61427  0.779136  GALAXY  10445       0  \n2      18.94827  0.644195  GALAXY   4576       0  \n3      19.25010  0.932346  GALAXY   9149       0  \n4      15.54461  0.116123  GALAXY   6121       0  ",
      "text/html": "<div>\n<style scoped>\n    .dataframe tbody tr th:only-of-type {\n        vertical-align: middle;\n    }\n\n    .dataframe tbody tr th {\n        vertical-align: top;\n    }\n\n    .dataframe thead th {\n        text-align: right;\n    }\n</style>\n<table border=\"1\" class=\"dataframe\">\n  <thead>\n    <tr style=\"text-align: right;\">\n      <th></th>\n      <th>alpha</th>\n      <th>delta</th>\n      <th>u</th>\n      <th>g</th>\n      <th>r</th>\n      <th>i</th>\n      <th>z</th>\n      <th>redshift</th>\n      <th>class</th>\n      <th>plate</th>\n      <th>target</th>\n    </tr>\n    <tr>\n      <th>index</th>\n      <th></th>\n      <th></th>\n      <th></th>\n      <th></th>\n      <th></th>\n      <th></th>\n      <th></th>\n      <th></th>\n      <th></th>\n      <th></th>\n      <th></th>\n    </tr>\n  </thead>\n  <tbody>\n    <tr>\n      <th>0</th>\n      <td>135.689107</td>\n      <td>32.494632</td>\n      <td>23.87882</td>\n      <td>22.27530</td>\n      <td>20.39501</td>\n      <td>19.16573</td>\n      <td>18.79371</td>\n      <td>0.634794</td>\n      <td>GALAXY</td>\n      <td>5812</td>\n      <td>0</td>\n    </tr>\n    <tr>\n      <th>1</th>\n      <td>144.826101</td>\n      <td>31.274185</td>\n      <td>24.77759</td>\n      <td>22.83188</td>\n      <td>22.58444</td>\n      <td>21.16812</td>\n      <td>21.61427</td>\n      <td>0.779136</td>\n      <td>GALAXY</td>\n      <td>10445</td>\n      <td>0</td>\n    </tr>\n    <tr>\n      <th>2</th>\n      <td>142.188790</td>\n      <td>35.582444</td>\n      <td>25.26307</td>\n      <td>22.66389</td>\n      <td>20.60976</td>\n      <td>19.34857</td>\n      <td>18.94827</td>\n      <td>0.644195</td>\n      <td>GALAXY</td>\n      <td>4576</td>\n      <td>0</td>\n    </tr>\n    <tr>\n      <th>3</th>\n      <td>338.741038</td>\n      <td>-0.402828</td>\n      <td>22.13682</td>\n      <td>23.77656</td>\n      <td>21.61162</td>\n      <td>20.50454</td>\n      <td>19.25010</td>\n      <td>0.932346</td>\n      <td>GALAXY</td>\n      <td>9149</td>\n      <td>0</td>\n    </tr>\n    <tr>\n      <th>4</th>\n      <td>345.282593</td>\n      <td>21.183866</td>\n      <td>19.43718</td>\n      <td>17.58028</td>\n      <td>16.49747</td>\n      <td>15.97711</td>\n      <td>15.54461</td>\n      <td>0.116123</td>\n      <td>GALAXY</td>\n      <td>6121</td>\n      <td>0</td>\n    </tr>\n  </tbody>\n</table>\n</div>"
     },
     "execution_count": 30,
     "metadata": {},
     "output_type": "execute_result"
    }
   ],
   "source": [
    "data.head()"
   ],
   "metadata": {
    "collapsed": false,
    "pycharm": {
     "name": "#%%\n"
    }
   }
  },
  {
   "cell_type": "code",
   "execution_count": 25,
   "outputs": [],
   "source": [
    "save_path: str = r\"D:\\Documents\\GitHub\\UNI_Stellar_Classification\\Data\\star_classification_preprocessed.csv\"\n",
    "data.drop([\"class\"], axis=1, inplace=True)\n",
    "data.to_csv(save_path)"
   ],
   "metadata": {
    "collapsed": false,
    "pycharm": {
     "name": "#%%\n"
    }
   }
  },
  {
   "cell_type": "code",
   "execution_count": 31,
   "outputs": [],
   "source": [
    "save_path_mm_scale: str = r\"D:\\Documents\\GitHub\\UNI_Stellar_Classification\\Data\\star_classification_preprocessed_min_max_scale.csv\"\n",
    "mm_scaled_data.to_csv(save_path_mm_scale)"
   ],
   "metadata": {
    "collapsed": false,
    "pycharm": {
     "name": "#%%\n"
    }
   }
  },
  {
   "cell_type": "code",
   "execution_count": 32,
   "outputs": [],
   "source": [
    "save_path_std_scale: str = r\"D:\\Documents\\GitHub\\UNI_Stellar_Classification\\Data\\star_classification_preprocessed_std_scale.csv\"\n",
    "std_scale_data.to_csv(save_path_std_scale)"
   ],
   "metadata": {
    "collapsed": false,
    "pycharm": {
     "name": "#%%\n"
    }
   }
  }
 ],
 "metadata": {
  "kernelspec": {
   "display_name": "Python 3",
   "language": "python",
   "name": "python3"
  },
  "language_info": {
   "codemirror_mode": {
    "name": "ipython",
    "version": 2
   },
   "file_extension": ".py",
   "mimetype": "text/x-python",
   "name": "python",
   "nbconvert_exporter": "python",
   "pygments_lexer": "ipython2",
   "version": "2.7.6"
  }
 },
 "nbformat": 4,
 "nbformat_minor": 0
}