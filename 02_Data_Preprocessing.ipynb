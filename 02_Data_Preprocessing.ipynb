{
 "cells": [
  {
   "cell_type": "code",
   "execution_count": 48,
   "metadata": {
    "collapsed": true,
    "pycharm": {
     "name": "#%%\n"
    }
   },
   "outputs": [],
   "source": [
    "import pandas as pd\n",
    "from pandas import DataFrame\n",
    "\n",
    "from sklearn.preprocessing import StandardScaler, MinMaxScaler"
   ]
  },
  {
   "cell_type": "code",
   "execution_count": 49,
   "outputs": [],
   "source": [
    "path: str = r\"D:\\Documents\\GitHub\\UNI_Stellar_Classification\\Data\\star_classification_only_features.csv\"\n",
    "data: DataFrame = pd.read_csv(path, index_col=\"index\")\n",
    "data.drop([\"Unnamed: 0\"], axis=1, inplace=True)"
   ],
   "metadata": {
    "collapsed": false,
    "pycharm": {
     "name": "#%%\n"
    }
   }
  },
  {
   "cell_type": "code",
   "execution_count": 50,
   "outputs": [
    {
     "data": {
      "text/plain": "              u         g         r         i         z  redshift  plate   \nindex                                                                      \n0      23.87882  22.27530  20.39501  19.16573  18.79371  0.634794   5812  \\\n1      24.77759  22.83188  22.58444  21.16812  21.61427  0.779136  10445   \n2      25.26307  22.66389  20.60976  19.34857  18.94827  0.644195   4576   \n3      22.13682  23.77656  21.61162  20.50454  19.25010  0.932346   9149   \n4      19.43718  17.58028  16.49747  15.97711  15.54461  0.116123   6121   \n\n        class  \nindex          \n0      GALAXY  \n1      GALAXY  \n2      GALAXY  \n3      GALAXY  \n4      GALAXY  ",
      "text/html": "<div>\n<style scoped>\n    .dataframe tbody tr th:only-of-type {\n        vertical-align: middle;\n    }\n\n    .dataframe tbody tr th {\n        vertical-align: top;\n    }\n\n    .dataframe thead th {\n        text-align: right;\n    }\n</style>\n<table border=\"1\" class=\"dataframe\">\n  <thead>\n    <tr style=\"text-align: right;\">\n      <th></th>\n      <th>u</th>\n      <th>g</th>\n      <th>r</th>\n      <th>i</th>\n      <th>z</th>\n      <th>redshift</th>\n      <th>plate</th>\n      <th>class</th>\n    </tr>\n    <tr>\n      <th>index</th>\n      <th></th>\n      <th></th>\n      <th></th>\n      <th></th>\n      <th></th>\n      <th></th>\n      <th></th>\n      <th></th>\n    </tr>\n  </thead>\n  <tbody>\n    <tr>\n      <th>0</th>\n      <td>23.87882</td>\n      <td>22.27530</td>\n      <td>20.39501</td>\n      <td>19.16573</td>\n      <td>18.79371</td>\n      <td>0.634794</td>\n      <td>5812</td>\n      <td>GALAXY</td>\n    </tr>\n    <tr>\n      <th>1</th>\n      <td>24.77759</td>\n      <td>22.83188</td>\n      <td>22.58444</td>\n      <td>21.16812</td>\n      <td>21.61427</td>\n      <td>0.779136</td>\n      <td>10445</td>\n      <td>GALAXY</td>\n    </tr>\n    <tr>\n      <th>2</th>\n      <td>25.26307</td>\n      <td>22.66389</td>\n      <td>20.60976</td>\n      <td>19.34857</td>\n      <td>18.94827</td>\n      <td>0.644195</td>\n      <td>4576</td>\n      <td>GALAXY</td>\n    </tr>\n    <tr>\n      <th>3</th>\n      <td>22.13682</td>\n      <td>23.77656</td>\n      <td>21.61162</td>\n      <td>20.50454</td>\n      <td>19.25010</td>\n      <td>0.932346</td>\n      <td>9149</td>\n      <td>GALAXY</td>\n    </tr>\n    <tr>\n      <th>4</th>\n      <td>19.43718</td>\n      <td>17.58028</td>\n      <td>16.49747</td>\n      <td>15.97711</td>\n      <td>15.54461</td>\n      <td>0.116123</td>\n      <td>6121</td>\n      <td>GALAXY</td>\n    </tr>\n  </tbody>\n</table>\n</div>"
     },
     "execution_count": 50,
     "metadata": {},
     "output_type": "execute_result"
    }
   ],
   "source": [
    "data.head()"
   ],
   "metadata": {
    "collapsed": false,
    "pycharm": {
     "name": "#%%\n"
    }
   }
  },
  {
   "cell_type": "code",
   "execution_count": 51,
   "outputs": [
    {
     "name": "stdout",
     "output_type": "stream",
     "text": [
      "<class 'pandas.core.frame.DataFrame'>\n",
      "Index: 99999 entries, 0 to 99999\n",
      "Data columns (total 8 columns):\n",
      " #   Column    Non-Null Count  Dtype  \n",
      "---  ------    --------------  -----  \n",
      " 0   u         99999 non-null  float64\n",
      " 1   g         99999 non-null  float64\n",
      " 2   r         99999 non-null  float64\n",
      " 3   i         99999 non-null  float64\n",
      " 4   z         99999 non-null  float64\n",
      " 5   redshift  99999 non-null  float64\n",
      " 6   plate     99999 non-null  int64  \n",
      " 7   class     99999 non-null  object \n",
      "dtypes: float64(6), int64(1), object(1)\n",
      "memory usage: 6.9+ MB\n"
     ]
    }
   ],
   "source": [
    "data.info()"
   ],
   "metadata": {
    "collapsed": false,
    "pycharm": {
     "name": "#%%\n"
    }
   }
  },
  {
   "cell_type": "markdown",
   "source": [
    "# Transform the target variable into numeric values"
   ],
   "metadata": {
    "collapsed": false,
    "pycharm": {
     "name": "#%% md\n"
    }
   }
  },
  {
   "cell_type": "code",
   "execution_count": 52,
   "outputs": [
    {
     "data": {
      "text/plain": "array([0, 1, 2], dtype=int64)"
     },
     "execution_count": 52,
     "metadata": {},
     "output_type": "execute_result"
    }
   ],
   "source": [
    "target_encoding: dict = {\n",
    "    \"GALAXY\": 0,\n",
    "    \"QSO\": 1,\n",
    "    \"STAR\": 2\n",
    "}\n",
    "\n",
    "data[\"target\"] = data[\"class\"].map(lambda x: target_encoding[x])\n",
    "data.target.unique()"
   ],
   "metadata": {
    "collapsed": false,
    "pycharm": {
     "name": "#%%\n"
    }
   }
  },
  {
   "cell_type": "markdown",
   "source": [
    "# Rescale all features\n",
    "for Trees and Ensemble methods this will not be necessary, however it can be beneficial for Logistic Regression Models and SVM Classifier.\n",
    "Thus, a rescaled and non rescaled version of the dataset will be saved.\n",
    "\n",
    "There are several methods how to rescale data such as Standardization or MinMaxScaling\n",
    "Since it was observed that none of the features tends to be really close to a normal distribution,\n",
    "standardization does not seem fit well for this data. Thus, MinMaxScaling is used"
   ],
   "metadata": {
    "collapsed": false,
    "pycharm": {
     "name": "#%% md\n"
    }
   }
  },
  {
   "cell_type": "code",
   "execution_count": 53,
   "outputs": [],
   "source": [
    "min_max_scaler = MinMaxScaler()\n",
    "standard_scaler = StandardScaler()\n",
    "\n",
    "# min max scale\n",
    "min_max_scaled_data = min_max_scaler.fit_transform(data.drop([\"class\", \"target\"], axis=1), data[\"target\"])\n",
    "mm_scaled_data: DataFrame = DataFrame(data=min_max_scaled_data, columns=min_max_scaler.get_feature_names_out(), index=data.index)\n",
    "mm_scaled_data[\"target\"] = data.target"
   ],
   "metadata": {
    "collapsed": false,
    "pycharm": {
     "name": "#%%\n"
    }
   }
  },
  {
   "cell_type": "code",
   "execution_count": 54,
   "outputs": [
    {
     "data": {
      "text/plain": "              u         g         r         i         z  redshift     plate   \nindex                                                                         \n0      0.591347  0.558050  0.535344  0.427665  0.464377  0.091831  0.451592  \\\n1      0.632603  0.584423  0.646203  0.515986  0.607035  0.112389  0.828841   \n2      0.654888  0.576463  0.546218  0.435729  0.472194  0.093170  0.350949   \n3      0.511384  0.629186  0.596946  0.486717  0.487460  0.134210  0.723312   \n4      0.387463  0.335579  0.337999  0.287021  0.300043  0.017959  0.476753   \n\n       target  \nindex          \n0           0  \n1           0  \n2           0  \n3           0  \n4           0  ",
      "text/html": "<div>\n<style scoped>\n    .dataframe tbody tr th:only-of-type {\n        vertical-align: middle;\n    }\n\n    .dataframe tbody tr th {\n        vertical-align: top;\n    }\n\n    .dataframe thead th {\n        text-align: right;\n    }\n</style>\n<table border=\"1\" class=\"dataframe\">\n  <thead>\n    <tr style=\"text-align: right;\">\n      <th></th>\n      <th>u</th>\n      <th>g</th>\n      <th>r</th>\n      <th>i</th>\n      <th>z</th>\n      <th>redshift</th>\n      <th>plate</th>\n      <th>target</th>\n    </tr>\n    <tr>\n      <th>index</th>\n      <th></th>\n      <th></th>\n      <th></th>\n      <th></th>\n      <th></th>\n      <th></th>\n      <th></th>\n      <th></th>\n    </tr>\n  </thead>\n  <tbody>\n    <tr>\n      <th>0</th>\n      <td>0.591347</td>\n      <td>0.558050</td>\n      <td>0.535344</td>\n      <td>0.427665</td>\n      <td>0.464377</td>\n      <td>0.091831</td>\n      <td>0.451592</td>\n      <td>0</td>\n    </tr>\n    <tr>\n      <th>1</th>\n      <td>0.632603</td>\n      <td>0.584423</td>\n      <td>0.646203</td>\n      <td>0.515986</td>\n      <td>0.607035</td>\n      <td>0.112389</td>\n      <td>0.828841</td>\n      <td>0</td>\n    </tr>\n    <tr>\n      <th>2</th>\n      <td>0.654888</td>\n      <td>0.576463</td>\n      <td>0.546218</td>\n      <td>0.435729</td>\n      <td>0.472194</td>\n      <td>0.093170</td>\n      <td>0.350949</td>\n      <td>0</td>\n    </tr>\n    <tr>\n      <th>3</th>\n      <td>0.511384</td>\n      <td>0.629186</td>\n      <td>0.596946</td>\n      <td>0.486717</td>\n      <td>0.487460</td>\n      <td>0.134210</td>\n      <td>0.723312</td>\n      <td>0</td>\n    </tr>\n    <tr>\n      <th>4</th>\n      <td>0.387463</td>\n      <td>0.335579</td>\n      <td>0.337999</td>\n      <td>0.287021</td>\n      <td>0.300043</td>\n      <td>0.017959</td>\n      <td>0.476753</td>\n      <td>0</td>\n    </tr>\n  </tbody>\n</table>\n</div>"
     },
     "execution_count": 54,
     "metadata": {},
     "output_type": "execute_result"
    }
   ],
   "source": [
    "mm_scaled_data.head()"
   ],
   "metadata": {
    "collapsed": false,
    "pycharm": {
     "name": "#%%\n"
    }
   }
  },
  {
   "cell_type": "code",
   "execution_count": 55,
   "outputs": [
    {
     "data": {
      "text/plain": "              u         g         r         i         z  redshift  plate   \nindex                                                                      \n0      23.87882  22.27530  20.39501  19.16573  18.79371  0.634794   5812  \\\n1      24.77759  22.83188  22.58444  21.16812  21.61427  0.779136  10445   \n2      25.26307  22.66389  20.60976  19.34857  18.94827  0.644195   4576   \n3      22.13682  23.77656  21.61162  20.50454  19.25010  0.932346   9149   \n4      19.43718  17.58028  16.49747  15.97711  15.54461  0.116123   6121   \n\n        class  target  \nindex                  \n0      GALAXY       0  \n1      GALAXY       0  \n2      GALAXY       0  \n3      GALAXY       0  \n4      GALAXY       0  ",
      "text/html": "<div>\n<style scoped>\n    .dataframe tbody tr th:only-of-type {\n        vertical-align: middle;\n    }\n\n    .dataframe tbody tr th {\n        vertical-align: top;\n    }\n\n    .dataframe thead th {\n        text-align: right;\n    }\n</style>\n<table border=\"1\" class=\"dataframe\">\n  <thead>\n    <tr style=\"text-align: right;\">\n      <th></th>\n      <th>u</th>\n      <th>g</th>\n      <th>r</th>\n      <th>i</th>\n      <th>z</th>\n      <th>redshift</th>\n      <th>plate</th>\n      <th>class</th>\n      <th>target</th>\n    </tr>\n    <tr>\n      <th>index</th>\n      <th></th>\n      <th></th>\n      <th></th>\n      <th></th>\n      <th></th>\n      <th></th>\n      <th></th>\n      <th></th>\n      <th></th>\n    </tr>\n  </thead>\n  <tbody>\n    <tr>\n      <th>0</th>\n      <td>23.87882</td>\n      <td>22.27530</td>\n      <td>20.39501</td>\n      <td>19.16573</td>\n      <td>18.79371</td>\n      <td>0.634794</td>\n      <td>5812</td>\n      <td>GALAXY</td>\n      <td>0</td>\n    </tr>\n    <tr>\n      <th>1</th>\n      <td>24.77759</td>\n      <td>22.83188</td>\n      <td>22.58444</td>\n      <td>21.16812</td>\n      <td>21.61427</td>\n      <td>0.779136</td>\n      <td>10445</td>\n      <td>GALAXY</td>\n      <td>0</td>\n    </tr>\n    <tr>\n      <th>2</th>\n      <td>25.26307</td>\n      <td>22.66389</td>\n      <td>20.60976</td>\n      <td>19.34857</td>\n      <td>18.94827</td>\n      <td>0.644195</td>\n      <td>4576</td>\n      <td>GALAXY</td>\n      <td>0</td>\n    </tr>\n    <tr>\n      <th>3</th>\n      <td>22.13682</td>\n      <td>23.77656</td>\n      <td>21.61162</td>\n      <td>20.50454</td>\n      <td>19.25010</td>\n      <td>0.932346</td>\n      <td>9149</td>\n      <td>GALAXY</td>\n      <td>0</td>\n    </tr>\n    <tr>\n      <th>4</th>\n      <td>19.43718</td>\n      <td>17.58028</td>\n      <td>16.49747</td>\n      <td>15.97711</td>\n      <td>15.54461</td>\n      <td>0.116123</td>\n      <td>6121</td>\n      <td>GALAXY</td>\n      <td>0</td>\n    </tr>\n  </tbody>\n</table>\n</div>"
     },
     "execution_count": 55,
     "metadata": {},
     "output_type": "execute_result"
    }
   ],
   "source": [
    "data.head()"
   ],
   "metadata": {
    "collapsed": false,
    "pycharm": {
     "name": "#%%\n"
    }
   }
  },
  {
   "cell_type": "code",
   "execution_count": 56,
   "outputs": [],
   "source": [
    "save_path: str = r\"D:\\Documents\\GitHub\\UNI_Stellar_Classification\\Data\\star_classification_preprocessed.csv\"\n",
    "data.drop([\"class\"], axis=1, inplace=True)\n",
    "data.to_csv(save_path)"
   ],
   "metadata": {
    "collapsed": false,
    "pycharm": {
     "name": "#%%\n"
    }
   }
  },
  {
   "cell_type": "code",
   "execution_count": 58,
   "outputs": [],
   "source": [
    "save_path_mm_scale: str = r\"D:\\Documents\\GitHub\\UNI_Stellar_Classification\\Data\\star_classification_preprocessed_min_max_scale.csv\"\n",
    "mm_scaled_data.to_csv(save_path_mm_scale, index=True)"
   ],
   "metadata": {
    "collapsed": false,
    "pycharm": {
     "name": "#%%\n"
    }
   }
  }
 ],
 "metadata": {
  "kernelspec": {
   "display_name": "Python 3",
   "language": "python",
   "name": "python3"
  },
  "language_info": {
   "codemirror_mode": {
    "name": "ipython",
    "version": 2
   },
   "file_extension": ".py",
   "mimetype": "text/x-python",
   "name": "python",
   "nbconvert_exporter": "python",
   "pygments_lexer": "ipython2",
   "version": "2.7.6"
  }
 },
 "nbformat": 4,
 "nbformat_minor": 0
}