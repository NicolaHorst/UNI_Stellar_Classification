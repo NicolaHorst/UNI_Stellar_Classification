{
 "cells": [
  {
   "cell_type": "code",
   "execution_count": 24,
   "outputs": [],
   "source": [
    "import pandas as pd\n",
    "from pandas import DataFrame\n",
    "\n",
    "from sklearn.preprocessing import MinMaxScaler\n",
    "from sklearn.model_selection import train_test_split"
   ],
   "metadata": {
    "collapsed": false,
    "pycharm": {
     "name": "#%%\n"
    }
   }
  },
  {
   "cell_type": "markdown",
   "source": [
    "# Load the Data obtained form 01_Data_Analysis"
   ],
   "metadata": {
    "collapsed": false,
    "pycharm": {
     "name": "#%% md\n"
    }
   }
  },
  {
   "cell_type": "code",
   "execution_count": 25,
   "outputs": [],
   "source": [
    "path: str = r\"D:\\Documents\\GitHub\\UNI_Stellar_Classification\\Data\\star_classification_only_features.csv\"\n",
    "data: DataFrame = pd.read_csv(path, index_col=\"index\")\n",
    "data.drop([\"Unnamed: 0\"], axis=1, inplace=True)"
   ],
   "metadata": {
    "collapsed": false,
    "pycharm": {
     "name": "#%%\n"
    }
   }
  },
  {
   "cell_type": "code",
   "execution_count": 26,
   "outputs": [
    {
     "data": {
      "text/plain": "              u         g         r         i         z  redshift  plate   \nindex                                                                      \n0      23.87882  22.27530  20.39501  19.16573  18.79371  0.634794   5812  \\\n1      24.77759  22.83188  22.58444  21.16812  21.61427  0.779136  10445   \n2      25.26307  22.66389  20.60976  19.34857  18.94827  0.644195   4576   \n3      22.13682  23.77656  21.61162  20.50454  19.25010  0.932346   9149   \n4      19.43718  17.58028  16.49747  15.97711  15.54461  0.116123   6121   \n\n        class  \nindex          \n0      GALAXY  \n1      GALAXY  \n2      GALAXY  \n3      GALAXY  \n4      GALAXY  ",
      "text/html": "<div>\n<style scoped>\n    .dataframe tbody tr th:only-of-type {\n        vertical-align: middle;\n    }\n\n    .dataframe tbody tr th {\n        vertical-align: top;\n    }\n\n    .dataframe thead th {\n        text-align: right;\n    }\n</style>\n<table border=\"1\" class=\"dataframe\">\n  <thead>\n    <tr style=\"text-align: right;\">\n      <th></th>\n      <th>u</th>\n      <th>g</th>\n      <th>r</th>\n      <th>i</th>\n      <th>z</th>\n      <th>redshift</th>\n      <th>plate</th>\n      <th>class</th>\n    </tr>\n    <tr>\n      <th>index</th>\n      <th></th>\n      <th></th>\n      <th></th>\n      <th></th>\n      <th></th>\n      <th></th>\n      <th></th>\n      <th></th>\n    </tr>\n  </thead>\n  <tbody>\n    <tr>\n      <th>0</th>\n      <td>23.87882</td>\n      <td>22.27530</td>\n      <td>20.39501</td>\n      <td>19.16573</td>\n      <td>18.79371</td>\n      <td>0.634794</td>\n      <td>5812</td>\n      <td>GALAXY</td>\n    </tr>\n    <tr>\n      <th>1</th>\n      <td>24.77759</td>\n      <td>22.83188</td>\n      <td>22.58444</td>\n      <td>21.16812</td>\n      <td>21.61427</td>\n      <td>0.779136</td>\n      <td>10445</td>\n      <td>GALAXY</td>\n    </tr>\n    <tr>\n      <th>2</th>\n      <td>25.26307</td>\n      <td>22.66389</td>\n      <td>20.60976</td>\n      <td>19.34857</td>\n      <td>18.94827</td>\n      <td>0.644195</td>\n      <td>4576</td>\n      <td>GALAXY</td>\n    </tr>\n    <tr>\n      <th>3</th>\n      <td>22.13682</td>\n      <td>23.77656</td>\n      <td>21.61162</td>\n      <td>20.50454</td>\n      <td>19.25010</td>\n      <td>0.932346</td>\n      <td>9149</td>\n      <td>GALAXY</td>\n    </tr>\n    <tr>\n      <th>4</th>\n      <td>19.43718</td>\n      <td>17.58028</td>\n      <td>16.49747</td>\n      <td>15.97711</td>\n      <td>15.54461</td>\n      <td>0.116123</td>\n      <td>6121</td>\n      <td>GALAXY</td>\n    </tr>\n  </tbody>\n</table>\n</div>"
     },
     "execution_count": 26,
     "metadata": {},
     "output_type": "execute_result"
    }
   ],
   "source": [
    "data.head()"
   ],
   "metadata": {
    "collapsed": false,
    "pycharm": {
     "name": "#%%\n"
    }
   }
  },
  {
   "cell_type": "code",
   "execution_count": 27,
   "outputs": [
    {
     "name": "stdout",
     "output_type": "stream",
     "text": [
      "<class 'pandas.core.frame.DataFrame'>\n",
      "Index: 99999 entries, 0 to 99999\n",
      "Data columns (total 8 columns):\n",
      " #   Column    Non-Null Count  Dtype  \n",
      "---  ------    --------------  -----  \n",
      " 0   u         99999 non-null  float64\n",
      " 1   g         99999 non-null  float64\n",
      " 2   r         99999 non-null  float64\n",
      " 3   i         99999 non-null  float64\n",
      " 4   z         99999 non-null  float64\n",
      " 5   redshift  99999 non-null  float64\n",
      " 6   plate     99999 non-null  int64  \n",
      " 7   class     99999 non-null  object \n",
      "dtypes: float64(6), int64(1), object(1)\n",
      "memory usage: 6.9+ MB\n"
     ]
    }
   ],
   "source": [
    "data.info()"
   ],
   "metadata": {
    "collapsed": false,
    "pycharm": {
     "name": "#%%\n"
    }
   }
  },
  {
   "cell_type": "markdown",
   "source": [
    "# Transform the target variable into numeric values"
   ],
   "metadata": {
    "collapsed": false,
    "pycharm": {
     "name": "#%% md\n"
    }
   }
  },
  {
   "cell_type": "code",
   "execution_count": 28,
   "outputs": [
    {
     "data": {
      "text/plain": "array([0, 1, 2], dtype=int64)"
     },
     "execution_count": 28,
     "metadata": {},
     "output_type": "execute_result"
    }
   ],
   "source": [
    "target_encoding: dict = {\n",
    "    \"GALAXY\": 0,\n",
    "    \"QSO\": 1,\n",
    "    \"STAR\": 2\n",
    "}\n",
    "\n",
    "data[\"target\"] = data[\"class\"].map(lambda x: target_encoding[x])\n",
    "data.target.unique()"
   ],
   "metadata": {
    "collapsed": false,
    "pycharm": {
     "name": "#%%\n"
    }
   }
  },
  {
   "cell_type": "markdown",
   "source": [
    "# Split the data into train and test samples\n",
    "before further preprocessing steps are applied, the data will be split into a training and testing set.\n",
    "The preprocessing is then performed on both sets by only taking information from the training set.\n",
    "\n",
    "# Train - Test Split\n",
    "the train split will be used for the hyperparameter tuning while the test split will only be used to evaluate the model configurations that performed best on the given training data.\n",
    "\n",
    "The train test split will be performed in a stratified way which ensures, that the distribution of the target variable will be kept as in the original data. That avoids situation of an \"unlucky\" data split for the evaluation data."
   ],
   "metadata": {
    "collapsed": false,
    "pycharm": {
     "name": "#%% md\n"
    }
   }
  },
  {
   "cell_type": "code",
   "execution_count": 29,
   "outputs": [
    {
     "name": "stdout",
     "output_type": "stream",
     "text": [
      "num training samples: 74999, shape: (74999, 7)\n",
      "num testing samples:  25000, shape: (25000, 7)\n"
     ]
    }
   ],
   "source": [
    "labels: DataFrame = data[\"target\"]\n",
    "\n",
    "x_train, x_test, y_train, y_test = train_test_split(\n",
    "    data.drop([\"class\", \"target\"], axis=1),\n",
    "    labels,\n",
    "    train_size=.75,\n",
    "    test_size=.25,\n",
    "    shuffle=True,\n",
    "    stratify=labels,\n",
    "    random_state=1337\n",
    ")\n",
    "\n",
    "print(f\"num training samples: {len(x_train)}, shape: {x_train.shape}\")\n",
    "print(f\"num testing samples:  {len(x_test)}, shape: {x_test.shape}\")"
   ],
   "metadata": {
    "collapsed": false,
    "pycharm": {
     "name": "#%%\n"
    }
   }
  },
  {
   "cell_type": "markdown",
   "source": [
    "# Rescale all features\n",
    "For Trees and Ensemble methods this will not be necessary, however it can be beneficial for Logistic Regression Models and SVM Classifier.\n",
    "Thus, a rescaled and non rescaled version of the dataset will be saved.\n",
    "\n",
    "There are several methods how to rescale data such as Standardization or MinMaxScaling\n",
    "Since it was observed that none of the features tends to be really close to a normal distribution,\n",
    "standardization does not seem fit well for this data. Thus, MinMaxScaling is used"
   ],
   "metadata": {
    "collapsed": false,
    "pycharm": {
     "name": "#%% md\n"
    }
   }
  },
  {
   "cell_type": "code",
   "execution_count": 30,
   "outputs": [
    {
     "name": "stdout",
     "output_type": "stream",
     "text": [
      "train data =    74999\n",
      "test data =     25000\n"
     ]
    }
   ],
   "source": [
    "min_max_scaler = MinMaxScaler()\n",
    "\n",
    "# min max scale\n",
    "mm_scaled_train_data: DataFrame = DataFrame(\n",
    "    data=min_max_scaler.fit_transform(x_train, y_train),\n",
    "    columns=min_max_scaler.get_feature_names_out(),\n",
    "    index=x_train.index\n",
    ")\n",
    "mm_scaled_test_data: DataFrame = DataFrame(\n",
    "    data=min_max_scaler.transform(x_test),\n",
    "    columns=min_max_scaler.get_feature_names_out(),\n",
    "    index=x_test.index\n",
    ")\n",
    "\n",
    "mm_scaled_train_data[\"target\"] = y_train\n",
    "mm_scaled_test_data[\"target\"] = y_test\n",
    "\n",
    "print(f\"train data =    {len(mm_scaled_train_data)}\")\n",
    "print(f\"test data =     {len(mm_scaled_test_data)}\")"
   ],
   "metadata": {
    "collapsed": false,
    "pycharm": {
     "name": "#%%\n"
    }
   }
  },
  {
   "cell_type": "code",
   "execution_count": 31,
   "outputs": [
    {
     "data": {
      "text/plain": "              u         g         r         i         z  redshift     plate   \nindex                                                                         \n39953  0.483393  0.397927  0.410270  0.384353  0.419801  0.029955  0.098526  \\\n25395  0.525559  0.507477  0.558333  0.548897  0.598689  0.173970  0.608338   \n62572  0.625665  0.552068  0.601967  0.581113  0.637224  0.001334  0.575523   \n58556  0.636801  0.588583  0.627470  0.609505  0.729539  0.039602  0.694080   \n67656  0.487465  0.478560  0.544779  0.531180  0.589709  0.292180  0.660777   \n\n       target  \nindex          \n39953       0  \n25395       1  \n62572       2  \n58556       0  \n67656       1  ",
      "text/html": "<div>\n<style scoped>\n    .dataframe tbody tr th:only-of-type {\n        vertical-align: middle;\n    }\n\n    .dataframe tbody tr th {\n        vertical-align: top;\n    }\n\n    .dataframe thead th {\n        text-align: right;\n    }\n</style>\n<table border=\"1\" class=\"dataframe\">\n  <thead>\n    <tr style=\"text-align: right;\">\n      <th></th>\n      <th>u</th>\n      <th>g</th>\n      <th>r</th>\n      <th>i</th>\n      <th>z</th>\n      <th>redshift</th>\n      <th>plate</th>\n      <th>target</th>\n    </tr>\n    <tr>\n      <th>index</th>\n      <th></th>\n      <th></th>\n      <th></th>\n      <th></th>\n      <th></th>\n      <th></th>\n      <th></th>\n      <th></th>\n    </tr>\n  </thead>\n  <tbody>\n    <tr>\n      <th>39953</th>\n      <td>0.483393</td>\n      <td>0.397927</td>\n      <td>0.410270</td>\n      <td>0.384353</td>\n      <td>0.419801</td>\n      <td>0.029955</td>\n      <td>0.098526</td>\n      <td>0</td>\n    </tr>\n    <tr>\n      <th>25395</th>\n      <td>0.525559</td>\n      <td>0.507477</td>\n      <td>0.558333</td>\n      <td>0.548897</td>\n      <td>0.598689</td>\n      <td>0.173970</td>\n      <td>0.608338</td>\n      <td>1</td>\n    </tr>\n    <tr>\n      <th>62572</th>\n      <td>0.625665</td>\n      <td>0.552068</td>\n      <td>0.601967</td>\n      <td>0.581113</td>\n      <td>0.637224</td>\n      <td>0.001334</td>\n      <td>0.575523</td>\n      <td>2</td>\n    </tr>\n    <tr>\n      <th>58556</th>\n      <td>0.636801</td>\n      <td>0.588583</td>\n      <td>0.627470</td>\n      <td>0.609505</td>\n      <td>0.729539</td>\n      <td>0.039602</td>\n      <td>0.694080</td>\n      <td>0</td>\n    </tr>\n    <tr>\n      <th>67656</th>\n      <td>0.487465</td>\n      <td>0.478560</td>\n      <td>0.544779</td>\n      <td>0.531180</td>\n      <td>0.589709</td>\n      <td>0.292180</td>\n      <td>0.660777</td>\n      <td>1</td>\n    </tr>\n  </tbody>\n</table>\n</div>"
     },
     "execution_count": 31,
     "metadata": {},
     "output_type": "execute_result"
    }
   ],
   "source": [
    "mm_scaled_train_data.head()"
   ],
   "metadata": {
    "collapsed": false,
    "pycharm": {
     "name": "#%%\n"
    }
   }
  },
  {
   "cell_type": "code",
   "execution_count": 32,
   "outputs": [
    {
     "data": {
      "text/plain": "              u         g         r         i         z  redshift  plate   \nindex                                                                      \n39953  20.50174  18.89606  17.92482  17.45683  17.24972  0.200347   1476  \\\n25395  21.33090  21.20801  20.84902  20.87608  20.50419  1.211507   7737   \n62572  23.29940  22.14906  21.71080  21.54554  21.20525 -0.000603   7334   \n58556  23.51839  22.91968  22.21448  22.13553  22.88474  0.268084   8790   \n67656  20.58182  20.59775  20.58134  20.50792  20.34083  2.041490   8381   \n\n       target  \nindex          \n39953       0  \n25395       1  \n62572       2  \n58556       0  \n67656       1  ",
      "text/html": "<div>\n<style scoped>\n    .dataframe tbody tr th:only-of-type {\n        vertical-align: middle;\n    }\n\n    .dataframe tbody tr th {\n        vertical-align: top;\n    }\n\n    .dataframe thead th {\n        text-align: right;\n    }\n</style>\n<table border=\"1\" class=\"dataframe\">\n  <thead>\n    <tr style=\"text-align: right;\">\n      <th></th>\n      <th>u</th>\n      <th>g</th>\n      <th>r</th>\n      <th>i</th>\n      <th>z</th>\n      <th>redshift</th>\n      <th>plate</th>\n      <th>target</th>\n    </tr>\n    <tr>\n      <th>index</th>\n      <th></th>\n      <th></th>\n      <th></th>\n      <th></th>\n      <th></th>\n      <th></th>\n      <th></th>\n      <th></th>\n    </tr>\n  </thead>\n  <tbody>\n    <tr>\n      <th>39953</th>\n      <td>20.50174</td>\n      <td>18.89606</td>\n      <td>17.92482</td>\n      <td>17.45683</td>\n      <td>17.24972</td>\n      <td>0.200347</td>\n      <td>1476</td>\n      <td>0</td>\n    </tr>\n    <tr>\n      <th>25395</th>\n      <td>21.33090</td>\n      <td>21.20801</td>\n      <td>20.84902</td>\n      <td>20.87608</td>\n      <td>20.50419</td>\n      <td>1.211507</td>\n      <td>7737</td>\n      <td>1</td>\n    </tr>\n    <tr>\n      <th>62572</th>\n      <td>23.29940</td>\n      <td>22.14906</td>\n      <td>21.71080</td>\n      <td>21.54554</td>\n      <td>21.20525</td>\n      <td>-0.000603</td>\n      <td>7334</td>\n      <td>2</td>\n    </tr>\n    <tr>\n      <th>58556</th>\n      <td>23.51839</td>\n      <td>22.91968</td>\n      <td>22.21448</td>\n      <td>22.13553</td>\n      <td>22.88474</td>\n      <td>0.268084</td>\n      <td>8790</td>\n      <td>0</td>\n    </tr>\n    <tr>\n      <th>67656</th>\n      <td>20.58182</td>\n      <td>20.59775</td>\n      <td>20.58134</td>\n      <td>20.50792</td>\n      <td>20.34083</td>\n      <td>2.041490</td>\n      <td>8381</td>\n      <td>1</td>\n    </tr>\n  </tbody>\n</table>\n</div>"
     },
     "execution_count": 32,
     "metadata": {},
     "output_type": "execute_result"
    }
   ],
   "source": [
    "x_train[\"target\"] = y_train\n",
    "x_test[\"target\"] = y_test\n",
    "\n",
    "x_train.head()"
   ],
   "metadata": {
    "collapsed": false,
    "pycharm": {
     "name": "#%%\n"
    }
   }
  },
  {
   "cell_type": "markdown",
   "source": [
    "# Save Data\n",
    "One Dataset contains the original values, while the other one contains the min-max-scaled data"
   ],
   "metadata": {
    "collapsed": false,
    "pycharm": {
     "name": "#%% md\n"
    }
   }
  },
  {
   "cell_type": "code",
   "execution_count": 33,
   "outputs": [],
   "source": [
    "save_path_train_data: str = r\"D:\\Documents\\GitHub\\UNI_Stellar_Classification\\Data\\star_classification_preprocessed_train_data.csv\"\n",
    "save_path_test_data: str = r\"D:\\Documents\\GitHub\\UNI_Stellar_Classification\\Data\\star_classification_preprocessed_test_data.csv\"\n",
    "x_train.to_csv(save_path_train_data)\n",
    "x_test.to_csv(save_path_test_data)"
   ],
   "metadata": {
    "collapsed": false,
    "pycharm": {
     "name": "#%%\n"
    }
   }
  },
  {
   "cell_type": "code",
   "execution_count": 34,
   "outputs": [],
   "source": [
    "save_path_train_data_mm_scale: str = r\"D:\\Documents\\GitHub\\UNI_Stellar_Classification\\Data\\star_classification_preprocessed_train_data_min_max_scale.csv\"\n",
    "save_path_test_data_mm_scale: str = r\"D:\\Documents\\GitHub\\UNI_Stellar_Classification\\Data\\star_classification_preprocessed_test_data_min_max_scale.csv\"\n",
    "\n",
    "mm_scaled_train_data.to_csv(save_path_train_data_mm_scale)\n",
    "mm_scaled_test_data.to_csv(save_path_test_data_mm_scale)"
   ],
   "metadata": {
    "collapsed": false,
    "pycharm": {
     "name": "#%%\n"
    }
   }
  }
 ],
 "metadata": {
  "kernelspec": {
   "display_name": "Python 3",
   "language": "python",
   "name": "python3"
  },
  "language_info": {
   "codemirror_mode": {
    "name": "ipython",
    "version": 2
   },
   "file_extension": ".py",
   "mimetype": "text/x-python",
   "name": "python",
   "nbconvert_exporter": "python",
   "pygments_lexer": "ipython2",
   "version": "2.7.6"
  }
 },
 "nbformat": 4,
 "nbformat_minor": 0
}